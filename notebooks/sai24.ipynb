{
 "cells": [
  {
   "cell_type": "code",
   "execution_count": null,
   "id": "22669b49",
   "metadata": {},
   "outputs": [],
   "source": [
    "print('Hello, world!')"
   ]
  }
 ],
 "metadata": {},
 "nbformat": 4,
 "nbformat_minor": 5
}
