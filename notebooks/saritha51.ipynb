{
 "cells": [
  {
   "cell_type": "code",
   "execution_count": null,
   "id": "4f5d492d",
   "metadata": {},
   "outputs": [],
   "source": [
    "print('Hello, world!')"
   ]
  }
 ],
 "metadata": {},
 "nbformat": 4,
 "nbformat_minor": 5
}
