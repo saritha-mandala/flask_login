{
 "cells": [
  {
   "cell_type": "code",
   "execution_count": null,
   "id": "54518cee-803d-404a-9dea-5d2e83ef8eff",
   "metadata": {},
   "outputs": [],
   "source": [
    "# print('Hello, world!')"
   ]
  },
  {
   "cell_type": "code",
   "execution_count": null,
   "id": "38260247",
   "metadata": {},
   "outputs": [],
   "source": []
  },
  {
   "cell_type": "code",
   "execution_count": null,
   "id": "583eb1e5",
   "metadata": {},
   "outputs": [],
   "source": [
    "print('Hello, world!')"
   ]
  },
  {
   "cell_type": "code",
   "execution_count": 1,
   "id": "465115d8",
   "metadata": {},
   "outputs": [
    {
     "name": "stdout",
     "output_type": "stream",
     "text": [
      "Hello, world!\n"
     ]
    }
   ],
   "source": [
    "print('Hello, world!')"
   ]
  },
  {
   "cell_type": "code",
   "execution_count": 5,
   "id": "de057f2a",
   "metadata": {},
   "outputs": [
    {
     "name": "stdout",
     "output_type": "stream",
     "text": [
      "save\n"
     ]
    }
   ],
   "source": [
    "print(\"save\")"
   ]
  },
  {
   "cell_type": "code",
   "execution_count": 1,
   "id": "19aa75f6-451e-435b-a200-37b7ff94d2e5",
   "metadata": {},
   "outputs": [
    {
     "data": {
      "text/plain": [
       "5"
      ]
     },
     "execution_count": 1,
     "metadata": {},
     "output_type": "execute_result"
    }
   ],
   "source": [
    "2+3"
   ]
  },
  {
   "cell_type": "code",
   "execution_count": 2,
   "id": "f2c508c5-89ee-4515-963b-ae966c5ed8b6",
   "metadata": {},
   "outputs": [
    {
     "ename": "SyntaxError",
     "evalue": "invalid syntax (691086257.py, line 1)",
     "output_type": "error",
     "traceback": [
      "\u001b[1;36m  Cell \u001b[1;32mIn[2], line 1\u001b[1;36m\u001b[0m\n\u001b[1;33m    3+$\u001b[0m\n\u001b[1;37m      ^\u001b[0m\n\u001b[1;31mSyntaxError\u001b[0m\u001b[1;31m:\u001b[0m invalid syntax\n"
     ]
    }
   ],
   "source": [
    "3+$"
   ]
  },
  {
   "cell_type": "code",
   "execution_count": 3,
   "id": "0422f6b6-de4c-48d6-8a5b-6bcba2dd2160",
   "metadata": {},
   "outputs": [
    {
     "data": {
      "text/plain": [
       "9"
      ]
     },
     "execution_count": 3,
     "metadata": {},
     "output_type": "execute_result"
    }
   ],
   "source": [
    "4+5"
   ]
  },
  {
   "cell_type": "code",
   "execution_count": 4,
   "id": "c5487cf5-637f-4f95-9cec-f20d223894a0",
   "metadata": {},
   "outputs": [
    {
     "data": {
      "text/plain": [
       "10"
      ]
     },
     "execution_count": 4,
     "metadata": {},
     "output_type": "execute_result"
    }
   ],
   "source": [
    "4+6"
   ]
  },
  {
   "cell_type": "code",
   "execution_count": 5,
   "id": "1341c1c3-b6ac-4d70-a0f8-654911440c82",
   "metadata": {},
   "outputs": [
    {
     "data": {
      "text/plain": [
       "7"
      ]
     },
     "execution_count": 5,
     "metadata": {},
     "output_type": "execute_result"
    }
   ],
   "source": [
    "3+4"
   ]
  },
  {
   "cell_type": "code",
   "execution_count": 6,
   "id": "8fc06a8e-6a13-4826-b4c1-31c316d9ed7c",
   "metadata": {},
   "outputs": [
    {
     "data": {
      "text/plain": [
       "7"
      ]
     },
     "execution_count": 6,
     "metadata": {},
     "output_type": "execute_result"
    }
   ],
   "source": [
    "3+4"
   ]
  },
  {
   "cell_type": "code",
   "execution_count": 8,
   "id": "5b40aaef-8a81-46f0-bf2a-0ea91086e8e3",
   "metadata": {},
   "outputs": [
    {
     "name": "stdout",
     "output_type": "stream",
     "text": [
      "save\n"
     ]
    }
   ],
   "source": [
    "print(\"save\")"
   ]
  },
  {
   "cell_type": "code",
   "execution_count": null,
   "id": "f9949a66-4502-44cc-991b-40e1a71696b0",
   "metadata": {},
   "outputs": [],
   "source": [
    "print(\"hello saritha\")\n"
   ]
  },
  {
   "cell_type": "code",
   "execution_count": 1,
   "id": "a7f4e9a0-01a2-445d-a0c3-c4d457613c28",
   "metadata": {},
   "outputs": [],
   "source": [
    "s=[0]\n"
   ]
  },
  {
   "cell_type": "code",
   "execution_count": 2,
   "id": "09c807a5-5958-487a-be72-239650a0069a",
   "metadata": {},
   "outputs": [
    {
     "data": {
      "text/plain": [
       "[0]"
      ]
     },
     "execution_count": 2,
     "metadata": {},
     "output_type": "execute_result"
    }
   ],
   "source": [
    "s"
   ]
  },
  {
   "cell_type": "code",
   "execution_count": 2,
   "id": "0178135a-433e-4a21-9160-95a45b4efd69",
   "metadata": {},
   "outputs": [
    {
     "name": "stdout",
     "output_type": "stream",
     "text": [
      "huhuhuhu\n"
     ]
    }
   ],
   "source": [
    "print(\"huhuhuhu\")"
   ]
  },
  {
   "cell_type": "code",
   "execution_count": 3,
   "id": "af4a84b9-e44c-4756-ab4c-ca4731f0fcc0",
   "metadata": {},
   "outputs": [
    {
     "name": "stdout",
     "output_type": "stream",
     "text": [
      "haiahiahiaahiahi\n"
     ]
    }
   ],
   "source": [
    "print(\"haiahiahiaahiahi\")"
   ]
  }
 ],
 "metadata": {
  "kernelspec": {
   "display_name": "Python 3 (ipykernel)",
   "language": "python",
   "name": "python3"
  },
  "language_info": {
   "codemirror_mode": {
    "name": "ipython",
    "version": 3
   },
   "file_extension": ".py",
   "mimetype": "text/x-python",
   "name": "python",
   "nbconvert_exporter": "python",
   "pygments_lexer": "ipython3",
   "version": "3.11.6"
  }
 },
 "nbformat": 4,
 "nbformat_minor": 5
}
