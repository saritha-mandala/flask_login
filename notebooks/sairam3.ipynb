{
 "cells": [
  {
   "cell_type": "code",
   "execution_count": null,
   "id": "3e5b5dda",
   "metadata": {},
   "outputs": [],
   "source": [
    "print('Hello, world!')"
   ]
  }
 ],
 "metadata": {},
 "nbformat": 4,
 "nbformat_minor": 5
}
