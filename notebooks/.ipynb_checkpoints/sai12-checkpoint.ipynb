{
 "cells": [
  {
   "cell_type": "code",
   "execution_count": null,
   "id": "454f3951",
   "metadata": {},
   "outputs": [],
   "source": [
    "print('Hello, world!')"
   ]
  }
 ],
 "metadata": {},
 "nbformat": 4,
 "nbformat_minor": 5
}
