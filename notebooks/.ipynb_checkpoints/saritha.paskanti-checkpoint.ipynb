{
 "cells": [
  {
   "cell_type": "code",
   "execution_count": null,
   "id": "132b9fcf",
   "metadata": {},
   "outputs": [],
   "source": [
    "print('Hello, world!')"
   ]
  }
 ],
 "metadata": {},
 "nbformat": 4,
 "nbformat_minor": 5
}
