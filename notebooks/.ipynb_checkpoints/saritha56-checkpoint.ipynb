{
 "cells": [
  {
   "cell_type": "code",
   "execution_count": null,
   "id": "42e3b67c",
   "metadata": {},
   "outputs": [],
   "source": [
    "print('Hello, world!')"
   ]
  }
 ],
 "metadata": {},
 "nbformat": 4,
 "nbformat_minor": 5
}
