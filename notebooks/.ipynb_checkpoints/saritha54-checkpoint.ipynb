{
 "cells": [
  {
   "cell_type": "code",
   "execution_count": null,
   "id": "a709b6d8",
   "metadata": {},
   "outputs": [],
   "source": [
    "print('Hello, world!')"
   ]
  }
 ],
 "metadata": {},
 "nbformat": 4,
 "nbformat_minor": 5
}
