{
 "cells": [
  {
   "cell_type": "code",
   "execution_count": null,
   "id": "a14c7cd8",
   "metadata": {},
   "outputs": [],
   "source": [
    "print('Hello, world!')"
   ]
  }
 ],
 "metadata": {},
 "nbformat": 4,
 "nbformat_minor": 5
}
