{
 "cells": [
  {
   "cell_type": "code",
   "execution_count": null,
   "id": "c4b36002",
   "metadata": {},
   "outputs": [],
   "source": [
    "print('Hello, world!')"
   ]
  }
 ],
 "metadata": {},
 "nbformat": 4,
 "nbformat_minor": 5
}
