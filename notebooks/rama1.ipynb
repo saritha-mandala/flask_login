{
 "cells": [
  {
   "cell_type": "code",
   "execution_count": null,
   "id": "a7e0753c",
   "metadata": {},
   "outputs": [],
   "source": [
    "print('Hello, world!')"
   ]
  }
 ],
 "metadata": {},
 "nbformat": 4,
 "nbformat_minor": 5
}
